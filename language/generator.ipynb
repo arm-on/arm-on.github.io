{
 "cells": [
  {
   "cell_type": "markdown",
   "id": "a3ed5170",
   "metadata": {},
   "source": [
    "**Step 1: Installation whatever is needed and importing them**"
   ]
  },
  {
   "cell_type": "code",
   "execution_count": 11,
   "id": "479ae9e5",
   "metadata": {
    "ExecuteTime": {
     "end_time": "2022-08-21T20:14:34.270368Z",
     "start_time": "2022-08-21T20:14:33.585944Z"
    }
   },
   "outputs": [
    {
     "name": "stdout",
     "output_type": "stream",
     "text": [
      "Enabling notebook extension jupyter_wysiwyg/index...\r\n",
      "      - Validating: \u001b[32mOK\u001b[0m\r\n"
     ]
    }
   ],
   "source": [
    "!jupyter nbextension enable --py jupyter_wysiwyg"
   ]
  },
  {
   "cell_type": "code",
   "execution_count": null,
   "id": "11ebaee1",
   "metadata": {},
   "outputs": [],
   "source": [
    "# !pip install gTTS pyttsx3 playsound"
   ]
  },
  {
   "cell_type": "code",
   "execution_count": null,
   "id": "e3dd992f",
   "metadata": {},
   "outputs": [],
   "source": [
    "# !pip install translators --upgrade"
   ]
  },
  {
   "cell_type": "code",
   "execution_count": 1,
   "id": "62aa8696",
   "metadata": {
    "ExecuteTime": {
     "end_time": "2022-08-21T20:02:09.084380Z",
     "start_time": "2022-08-21T20:02:01.847835Z"
    }
   },
   "outputs": [
    {
     "name": "stderr",
     "output_type": "stream",
     "text": [
      "Using United States server backend.\n"
     ]
    }
   ],
   "source": [
    "import gtts\n",
    "from playsound import playsound\n",
    "import os\n",
    "import translators as ts\n",
    "import string\n",
    "import shutil"
   ]
  },
  {
   "cell_type": "markdown",
   "id": "2c5b57f6",
   "metadata": {},
   "source": [
    "**Step 2: Defining Applicable Functions**"
   ]
  },
  {
   "cell_type": "code",
   "execution_count": 2,
   "id": "e0b50778",
   "metadata": {
    "ExecuteTime": {
     "end_time": "2022-08-21T20:02:09.103617Z",
     "start_time": "2022-08-21T20:02:09.095457Z"
    }
   },
   "outputs": [],
   "source": [
    "def translate(phrase, source_lang, target_lang):\n",
    "    return ts.google(phrase, from_language=source_lang, to_language=target_lang)"
   ]
  },
  {
   "cell_type": "code",
   "execution_count": 3,
   "id": "ae095796",
   "metadata": {
    "ExecuteTime": {
     "end_time": "2022-08-21T20:02:09.118436Z",
     "start_time": "2022-08-21T20:02:09.108855Z"
    }
   },
   "outputs": [],
   "source": [
    "def get_german(phrase, save_to=\"de/\", file_name=False):\n",
    "    german_tts = gtts.gTTS(phrase, lang=\"de\")\n",
    "    if not file_name:\n",
    "        german_tts.save(save_to+phrase+\".mp3\")\n",
    "    else:\n",
    "        german_tts.save(save_to+file_name+\".mp3\")\n",
    "def get_dutch(phrase, save_to=\"nl/\", file_name=False):\n",
    "    dutch_tts = gtts.gTTS(phrase, lang=\"nl\")\n",
    "    if not file_name:\n",
    "        dutch_tts.save(save_to+phrase+\".mp3\")\n",
    "    else:\n",
    "        dutch_tts.save(save_to+file_name+\".mp3\")"
   ]
  },
  {
   "cell_type": "code",
   "execution_count": 4,
   "id": "67dd4c2b",
   "metadata": {
    "ExecuteTime": {
     "end_time": "2022-08-21T20:02:12.840648Z",
     "start_time": "2022-08-21T20:02:12.831089Z"
    }
   },
   "outputs": [],
   "source": [
    "def get_list(lst, lang):\n",
    "    for item in lst:\n",
    "        if lang == \"de\":\n",
    "            get_german(item)\n",
    "        elif lang == \"nl\":\n",
    "            get_dutch(item)"
   ]
  },
  {
   "cell_type": "code",
   "execution_count": 5,
   "id": "fa5eefce",
   "metadata": {
    "ExecuteTime": {
     "end_time": "2022-08-21T20:02:17.662866Z",
     "start_time": "2022-08-21T20:02:17.657693Z"
    }
   },
   "outputs": [],
   "source": [
    "def name_fix(mystring):\n",
    "    return mystring.translate(str.maketrans('', '', string.punctuation)).lower().replace(' ','-')"
   ]
  },
  {
   "cell_type": "code",
   "execution_count": 6,
   "id": "4cad6af3",
   "metadata": {
    "ExecuteTime": {
     "end_time": "2022-08-21T20:02:19.346423Z",
     "start_time": "2022-08-21T20:02:19.340446Z"
    }
   },
   "outputs": [],
   "source": [
    "def get_list_and_save_to(lst, lang, save_to):\n",
    "    if not os.path.exists(save_to):\n",
    "        os.makedirs(save_to)\n",
    "    for item in lst:\n",
    "        if lang == \"de\":\n",
    "            get_german(item, save_to, name_fix(item))\n",
    "        elif lang == \"nl\":\n",
    "            get_dutch(item, save_to, name_fix(item))"
   ]
  },
  {
   "cell_type": "code",
   "execution_count": 7,
   "id": "46dafa4f",
   "metadata": {
    "ExecuteTime": {
     "end_time": "2022-08-21T20:02:23.261387Z",
     "start_time": "2022-08-21T20:02:23.247361Z"
    }
   },
   "outputs": [],
   "source": [
    "def make_page(lst, title, source_lang, target_lang, save_to, page_path, lesson_title, paragraphs_lst, urls_prefix):\n",
    "    get_list_and_save_to(lst, source_lang, save_to)\n",
    "    tab_code = ''\n",
    "    for item in lst:\n",
    "        tab_code += '<tr>'\n",
    "        tab_code += '<td>'+item+'</td>'\n",
    "        tab_code += '<td>'+translate(item, source_lang, target_lang)+'</td>'\n",
    "        tab_code += '<td><audio controls><source src=\"'+urls_prefix+save_to+name_fix(item)+'.mp3'+'\" type=\"audio/mpeg\">'+'</audio></td>'\n",
    "        tab_code += '</tr>'\n",
    "\n",
    "    paragraphs = ''\n",
    "    for p in paragraphs_lst:\n",
    "        paragraphs += '<p>'+p+'</p>'\n",
    "\n",
    "\n",
    "    page_code = '''\n",
    "\n",
    "    <!DOCTYPE html>\n",
    "    <html lang=\"en\">\n",
    "    <head>\n",
    "      <title>{title}</title>\n",
    "      <meta charset=\"utf-8\">\n",
    "      <meta name=\"viewport\" content=\"width=device-width, initial-scale=1\">\n",
    "      <link rel=\"stylesheet\" href=\"https://maxcdn.bootstrapcdn.com/bootstrap/3.4.1/css/bootstrap.min.css\">\n",
    "      <script src=\"https://ajax.googleapis.com/ajax/libs/jquery/3.5.1/jquery.min.js\"></script>\n",
    "      <script src=\"https://maxcdn.bootstrapcdn.com/bootstrap/3.4.1/js/bootstrap.min.js\"></script>\n",
    "    </head>\n",
    "    <body>\n",
    "\n",
    "    <div class=\"container\">\n",
    "      <h2>{lesson_title}</h2>\n",
    "      {paragraphs}\n",
    "      <table class=\"table\">\n",
    "        <thead>\n",
    "          <tr>\n",
    "            <th>{source_lang}</th>\n",
    "            <th>{target_lang}</th>\n",
    "            <th>voice</th>\n",
    "          </tr>\n",
    "        </thead>\n",
    "        <tbody>\n",
    "    {table_code}\n",
    "        </tbody>\n",
    "      </table>\n",
    "    </div>\n",
    "\n",
    "    </body>\n",
    "    </html>\n",
    "\n",
    "    '''.format(title=title, table_code=tab_code, source_lang=source_lang, target_lang=target_lang, lesson_title=lesson_title, paragraphs=paragraphs)\n",
    "    with open(page_path,'w',encoding='utf-8') as file:\n",
    "        file.write(page_code)"
   ]
  },
  {
   "cell_type": "markdown",
   "id": "c1e91a5d",
   "metadata": {},
   "source": [
    "**Step 3: Using the code to generate a nice neat HTML file**"
   ]
  },
  {
   "cell_type": "markdown",
   "id": "f43a3868",
   "metadata": {},
   "source": [
    "<p style=\"direction: rtl;\">تست میکنم</p>"
   ]
  },
  {
   "cell_type": "code",
   "execution_count": 12,
   "id": "0cd5cb7c",
   "metadata": {
    "ExecuteTime": {
     "end_time": "2022-08-21T20:21:59.786175Z",
     "start_time": "2022-08-21T20:21:59.740659Z"
    }
   },
   "outputs": [],
   "source": [
    "lesson_num = 1\n",
    "\n",
    "lst = [\n",
    "    \"Goede morgen\",\n",
    "    \"Dag\",\n",
    "    \"Hallo\",\n",
    "    \"Goede morgen meneer\",\n",
    "    \"Goede morgen mevrouw\",\n",
    "    \"Hoe gaat het met jou?\",\n",
    "    \"Goed\",\n",
    "    \"Prima\",\n",
    "    \"Ik ben Stefan\",\n",
    "    \"Mijn naam is Stefan\",\n",
    "    \"Wie ben jij?\",\n",
    "    \"Wie ben je?\",\n",
    "    \"Hoe heet jij?\",\n",
    "    \"Hoe heet je?\",\n",
    "    \"Aangenaam\",\n",
    "    \"Tot later\",\n",
    "]\n",
    "urls_prefix = 'https://arm-on.github.io/language/'\n",
    "page_title = \"Dutch - Mary - Lesson \"+str(lesson_num)\n",
    "source_lang = \"nl\"\n",
    "target_lang = \"en\"\n",
    "save_to = \"dutch_mary/lesson\"+str(lesson_num)+'/'\n",
    "page_path = save_to+'index.html' \n",
    "lesson_title = 'Lesson '+str(lesson_num)\n",
    "paragraphs_lst = [\n",
    "                 ]"
   ]
  },
  {
   "cell_type": "code",
   "execution_count": null,
   "id": "e31efd62",
   "metadata": {},
   "outputs": [],
   "source": [
    "# lst = [\n",
    "#     \"3 - 2 - 1 - los!\",\n",
    "#     \"Frau\",\n",
    "#     \"Frau Schmidt\",\n",
    "#     \"Herr\",\n",
    "#     \"Herr Müller\",\n",
    "#     \"Guten Tag!\",\n",
    "#     \"Guten Tag, Herr Müller!\",\n",
    "#     \"Auf Wiedersehen!\",\n",
    "#     \"Wieder\",\n",
    "#     \"Sehen\",\n",
    "#     \"Auf Wiedersehen, Herr Gruber!\",\n",
    "# ]\n",
    "# urls_prefix = 'https://arm-on.github.io/language/'\n",
    "# page_title = \"German - Busuu - Lesson 6\"\n",
    "# source_lang = \"de\"\n",
    "# target_lang = \"en\"\n",
    "# save_to = \"german_busuu/lesson6/\"\n",
    "# page_path = save_to+'index.html' \n",
    "# lesson_title = 'Lesson 6'\n",
    "# paragraphs_lst = ['When we want to be polite, we refer to people like Herr Malekzadeh (like to a teacher of ours)',\n",
    "#                   'We write Fr. Merkel, Hr. Einstein',\n",
    "#                   'Guten Tag is formal Hello',\n",
    "#                   'Auf Wiedersehen means \"Until we see each other again\"',\n",
    "#                   'Auf Wiedersehen is the formal version of Tschüss',\n",
    "#                 ]"
   ]
  },
  {
   "cell_type": "code",
   "execution_count": 13,
   "id": "8d7e6dc4",
   "metadata": {
    "ExecuteTime": {
     "end_time": "2022-08-21T20:24:45.181113Z",
     "start_time": "2022-08-21T20:22:13.985993Z"
    }
   },
   "outputs": [],
   "source": [
    "flag = 1\n",
    "if os.path.exists(save_to):\n",
    "    answer = input(\"The folder already exists. Overwrite? \")\n",
    "    if answer == 'no':\n",
    "        flag = 0\n",
    "    elif answer == 'yes':\n",
    "        shutil.rmtree(save_to)\n",
    "if flag == 1:\n",
    "    make_page(lst, page_title, source_lang, target_lang, save_to, page_path, lesson_title, paragraphs_lst, urls_prefix)"
   ]
  },
  {
   "cell_type": "markdown",
   "id": "3af472a7",
   "metadata": {},
   "source": [
    "**Step 4: Making a list of all tutorials, and putting it inside a webpage**"
   ]
  },
  {
   "cell_type": "code",
   "execution_count": 14,
   "id": "46b9e60e",
   "metadata": {
    "ExecuteTime": {
     "end_time": "2022-08-21T20:24:49.085010Z",
     "start_time": "2022-08-21T20:24:49.071287Z"
    }
   },
   "outputs": [],
   "source": [
    "def get_subfolders(path):\n",
    "    lst = [f.path for f in os.scandir(path) if f.is_dir()]\n",
    "    lst = [item.rsplit('/')[-1] for item in lst if not item.endswith('.ipynb_checkpoints')]\n",
    "    return lst"
   ]
  },
  {
   "cell_type": "code",
   "execution_count": 15,
   "id": "5a467429",
   "metadata": {
    "ExecuteTime": {
     "end_time": "2022-08-21T20:25:02.379236Z",
     "start_time": "2022-08-21T20:25:02.346793Z"
    }
   },
   "outputs": [],
   "source": [
    "current_path = '/Users/armanmalekzadeh/Documents/GitHub/arm-on.github.io/language/'\n",
    "urls_prefix = 'https://arm-on.github.io/language/'\n",
    "\n",
    "source_html = '''\n",
    "<!DOCTYPE html>\n",
    "<html lang=\"en\">\n",
    "<head>\n",
    "  <title>Complete List</title>\n",
    "  <meta charset=\"utf-8\">\n",
    "  <meta name=\"viewport\" content=\"width=device-width, initial-scale=1\">\n",
    "  <link rel=\"stylesheet\" href=\"https://maxcdn.bootstrapcdn.com/bootstrap/3.4.1/css/bootstrap.min.css\">\n",
    "  <script src=\"https://ajax.googleapis.com/ajax/libs/jquery/3.5.1/jquery.min.js\"></script>\n",
    "  <script src=\"https://maxcdn.bootstrapcdn.com/bootstrap/3.4.1/js/bootstrap.min.js\"></script>\n",
    "</head>\n",
    "<body>\n",
    "<div class=\"container\">\n",
    "'''\n",
    "\n",
    "head_tutorials = get_subfolders(current_path)\n",
    "\n",
    "for tutorial in head_tutorials:\n",
    "    source_html += '<h2>'+tutorial+'</h2><p>'\n",
    "    curr_lessons = sorted(get_subfolders(current_path+'/'+tutorial))\n",
    "\n",
    "    for lesson in curr_lessons:\n",
    "        source_html += '<a href=\"'+urls_prefix+tutorial+'/'+lesson+'\" style=\"font-size:medium\">'+lesson+'</a><br>'\n",
    "    source_html+= '</p>'\n",
    "source_html += '''\n",
    "</div>\n",
    " </body>\n",
    "</html>\n",
    "'''\n",
    "\n",
    "with open('index.html','w',encoding='utf-8') as file:\n",
    "    file.write(source_html)"
   ]
  },
  {
   "cell_type": "code",
   "execution_count": null,
   "id": "2248053b",
   "metadata": {},
   "outputs": [],
   "source": []
  },
  {
   "cell_type": "code",
   "execution_count": null,
   "id": "c0de54db",
   "metadata": {},
   "outputs": [],
   "source": []
  },
  {
   "cell_type": "code",
   "execution_count": null,
   "id": "9789afc4",
   "metadata": {},
   "outputs": [],
   "source": []
  }
 ],
 "metadata": {
  "kernelspec": {
   "display_name": "Python 3 (ipykernel)",
   "language": "python",
   "name": "python3"
  },
  "language_info": {
   "codemirror_mode": {
    "name": "ipython",
    "version": 3
   },
   "file_extension": ".py",
   "mimetype": "text/x-python",
   "name": "python",
   "nbconvert_exporter": "python",
   "pygments_lexer": "ipython3",
   "version": "3.9.7"
  }
 },
 "nbformat": 4,
 "nbformat_minor": 5
}
