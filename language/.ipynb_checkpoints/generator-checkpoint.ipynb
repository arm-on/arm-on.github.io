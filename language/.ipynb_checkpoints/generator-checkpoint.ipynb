{
 "cells": [
  {
   "cell_type": "markdown",
   "id": "a3ed5170",
   "metadata": {},
   "source": [
    "**Step 1: Installation whatever is needed and importing them**"
   ]
  },
  {
   "cell_type": "code",
   "execution_count": 1,
   "id": "11ebaee1",
   "metadata": {},
   "outputs": [],
   "source": [
    "# !pip install gTTS pyttsx3 playsound"
   ]
  },
  {
   "cell_type": "code",
   "execution_count": 2,
   "id": "e3dd992f",
   "metadata": {},
   "outputs": [],
   "source": [
    "# !pip install translators --upgrade"
   ]
  },
  {
   "cell_type": "code",
   "execution_count": 3,
   "id": "62aa8696",
   "metadata": {},
   "outputs": [
    {
     "name": "stderr",
     "output_type": "stream",
     "text": [
      "Using France server backend.\n"
     ]
    }
   ],
   "source": [
    "import gtts\n",
    "from playsound import playsound\n",
    "import os\n",
    "import translators as ts\n",
    "import string\n",
    "import shutil"
   ]
  },
  {
   "cell_type": "markdown",
   "id": "2c5b57f6",
   "metadata": {},
   "source": [
    "**Step 2: Defining Applicable Functions**"
   ]
  },
  {
   "cell_type": "code",
   "execution_count": 4,
   "id": "e0b50778",
   "metadata": {},
   "outputs": [],
   "source": [
    "def translate(phrase, source_lang, target_lang):\n",
    "    return ts.google(phrase, from_language=source_lang, to_language=target_lang)"
   ]
  },
  {
   "cell_type": "code",
   "execution_count": 5,
   "id": "ae095796",
   "metadata": {},
   "outputs": [],
   "source": [
    "def get_german(phrase, save_to=\"de/\", file_name=False):\n",
    "    german_tts = gtts.gTTS(phrase, lang=\"de\")\n",
    "    if not file_name:\n",
    "        german_tts.save(save_to+phrase+\".mp3\")\n",
    "    else:\n",
    "        german_tts.save(save_to+file_name+\".mp3\")\n",
    "def get_dutch(phrase, save_to=\"nl/\", file_name=False):\n",
    "    dutch_tts = gtts.gTTS(phrase, lang=\"nl\")\n",
    "    if not file_name:\n",
    "        dutch_tts.save(save_to+phrase+\".mp3\")\n",
    "    else:\n",
    "        dutch_tts.save(save_to+file_name+\".mp3\")"
   ]
  },
  {
   "cell_type": "code",
   "execution_count": 6,
   "id": "67dd4c2b",
   "metadata": {},
   "outputs": [],
   "source": [
    "def get_list(lst, lang):\n",
    "    for item in lst:\n",
    "        if lang == \"de\":\n",
    "            get_german(item)\n",
    "        elif lang == \"nl\":\n",
    "            get_dutch(item)"
   ]
  },
  {
   "cell_type": "code",
   "execution_count": 7,
   "id": "8b791434",
   "metadata": {},
   "outputs": [],
   "source": [
    "def name_fix(mystring):\n",
    "    return mystring.translate(str.maketrans('', '', string.punctuation)).lower().replace(' ','-')"
   ]
  },
  {
   "cell_type": "code",
   "execution_count": 8,
   "id": "4cad6af3",
   "metadata": {},
   "outputs": [],
   "source": [
    "def get_list_and_save_to(lst, lang, save_to):\n",
    "    if not os.path.exists(save_to):\n",
    "        os.makedirs(save_to)\n",
    "    for item in lst:\n",
    "        if lang == \"de\":\n",
    "            get_german(item, save_to, name_fix(item))\n",
    "        elif lang == \"nl\":\n",
    "            get_dutch(item, save_to, name_fix(item))"
   ]
  },
  {
   "cell_type": "code",
   "execution_count": 9,
   "id": "46dafa4f",
   "metadata": {},
   "outputs": [],
   "source": [
    "def make_page(lst, title, source_lang, target_lang, save_to, page_path, lesson_title, paragraphs_lst, urls_prefix):\n",
    "    get_list_and_save_to(lst, source_lang, save_to)\n",
    "    tab_code = ''\n",
    "    for item in lst:\n",
    "        tab_code += '<tr>'\n",
    "        tab_code += '<td>'+item+'</td>'\n",
    "        tab_code += '<td>'+translate(item, source_lang, target_lang)+'</td>'\n",
    "        tab_code += '<td><audio controls><source src=\"'+urls_prefix+save_to+name_fix(item)+'.mp3'+'\" type=\"audio/mpeg\">'+'</audio></td>'\n",
    "        tab_code += '</tr>'\n",
    "\n",
    "    paragraphs = ''\n",
    "    for p in paragraphs_lst:\n",
    "        paragraphs += '<p>'+p+'</p>'\n",
    "\n",
    "\n",
    "    page_code = '''\n",
    "\n",
    "    <!DOCTYPE html>\n",
    "    <html lang=\"en\">\n",
    "    <head>\n",
    "      <title>{title}</title>\n",
    "      <meta charset=\"utf-8\">\n",
    "      <meta name=\"viewport\" content=\"width=device-width, initial-scale=1\">\n",
    "      <link rel=\"stylesheet\" href=\"https://maxcdn.bootstrapcdn.com/bootstrap/3.4.1/css/bootstrap.min.css\">\n",
    "      <script src=\"https://ajax.googleapis.com/ajax/libs/jquery/3.5.1/jquery.min.js\"></script>\n",
    "      <script src=\"https://maxcdn.bootstrapcdn.com/bootstrap/3.4.1/js/bootstrap.min.js\"></script>\n",
    "    </head>\n",
    "    <body>\n",
    "\n",
    "    <div class=\"container\">\n",
    "      <h2>{lesson_title}</h2>\n",
    "      {paragraphs}\n",
    "      <table class=\"table\">\n",
    "        <thead>\n",
    "          <tr>\n",
    "            <th>{source_lang}</th>\n",
    "            <th>{target_lang}</th>\n",
    "            <th>voice</th>\n",
    "          </tr>\n",
    "        </thead>\n",
    "        <tbody>\n",
    "    {table_code}\n",
    "        </tbody>\n",
    "      </table>\n",
    "    </div>\n",
    "\n",
    "    </body>\n",
    "    </html>\n",
    "\n",
    "    '''.format(title=title, table_code=tab_code, source_lang=source_lang, target_lang=target_lang, lesson_title=lesson_title, paragraphs=paragraphs)\n",
    "    with open(page_path,'w',encoding='utf-8') as file:\n",
    "        file.write(page_code)"
   ]
  },
  {
   "cell_type": "markdown",
   "id": "c1e91a5d",
   "metadata": {},
   "source": [
    "**Step 3: Using the code to generate a nice neat HTML file**"
   ]
  },
  {
   "cell_type": "code",
   "execution_count": 15,
   "id": "0cd5cb7c",
   "metadata": {},
   "outputs": [],
   "source": [
    "# lst = [\n",
    "#     \"Hallo!\",\n",
    "#     \"Hoi!\",\n",
    "#     \"Doei!\",\n",
    "#     \"Tot ziens!\",\n",
    "#     \"Hallo Anna!- Hoi Bart!\",\n",
    "#     \"doei - Tot ziens!\"\n",
    "# ]\n",
    "# urls_prefix = 'https://arm-on.github.io/language/'\n",
    "# page_title = \"Dutch - Busuu - Lesson 1\"\n",
    "# source_lang = \"nl\"\n",
    "# target_lang = \"en\"\n",
    "# save_to = \"dutch_busuu/lesson1/\"\n",
    "# page_path = save_to+'index.html' \n",
    "# lesson_title = 'Lesson 1'\n",
    "# paragraphs_lst = ['Daily greetings :)']"
   ]
  },
  {
   "cell_type": "code",
   "execution_count": 21,
   "id": "04128a0f",
   "metadata": {},
   "outputs": [],
   "source": [
    "lst = [\n",
    "    \"Guten Morgen!\",\n",
    "    \"Morgen, Daniela!\",\n",
    "    \"Moin!\",\n",
    "    \"Servus!\",\n",
    "    \"Hoi!\",\n",
    "    \"Moin Peter! - Moin Alina!\"\n",
    "]\n",
    "urls_prefix = 'https://arm-on.github.io/language/'\n",
    "page_title = \"German - Busuu - Lesson 5\"\n",
    "source_lang = \"de\"\n",
    "target_lang = \"en\"\n",
    "save_to = \"german_busuu/lesson5/\"\n",
    "page_path = save_to+'index.html' \n",
    "lesson_title = 'Lesson 5'\n",
    "paragraphs_lst = ['In casual german, we say \"morgen\" instead of \"guten morgen\". ', \"Moin is another way of saying Hello in northern German\", \"If you are so happy, say Moin Moin! If not, just Moin is enough\",\n",
    "                 \"In Austria, they say Servus instead of Hallo. Servus also means bye in southern German and Austria. In general, it's a friendly greeting meaning 'at your service'.\",\n",
    "                 \"Hoi is another form of saying hello in Swiss German\",\n",
    "                ]"
   ]
  },
  {
   "cell_type": "code",
   "execution_count": 22,
   "id": "8d7e6dc4",
   "metadata": {},
   "outputs": [],
   "source": [
    "flag = 1\n",
    "if os.path.exists(save_to):\n",
    "    answer = input(\"The folder already exists. Overwrite? \")\n",
    "    if answer == 'no':\n",
    "        flag = 0\n",
    "    elif answer == 'yes':\n",
    "        shutil.rmtree(save_to)\n",
    "if flag == 1:\n",
    "    make_page(lst, page_title, source_lang, target_lang, save_to, page_path, lesson_title, paragraphs_lst, urls_prefix)"
   ]
  },
  {
   "cell_type": "code",
   "execution_count": null,
   "id": "3a88928b",
   "metadata": {},
   "outputs": [],
   "source": []
  }
 ],
 "metadata": {
  "kernelspec": {
   "display_name": "Python 3 (ipykernel)",
   "language": "python",
   "name": "python3"
  },
  "language_info": {
   "codemirror_mode": {
    "name": "ipython",
    "version": 3
   },
   "file_extension": ".py",
   "mimetype": "text/x-python",
   "name": "python",
   "nbconvert_exporter": "python",
   "pygments_lexer": "ipython3",
   "version": "3.9.7"
  }
 },
 "nbformat": 4,
 "nbformat_minor": 5
}
